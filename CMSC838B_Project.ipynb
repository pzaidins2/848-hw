{
  "nbformat": 4,
  "nbformat_minor": 0,
  "metadata": {
    "colab": {
      "provenance": [],
      "authorship_tag": "ABX9TyNMwvKgX2HetIqlM6eQe29c",
      "include_colab_link": true
    },
    "kernelspec": {
      "name": "python3",
      "display_name": "Python 3"
    },
    "language_info": {
      "name": "python"
    }
  },
  "cells": [
    {
      "cell_type": "markdown",
      "metadata": {
        "id": "view-in-github",
        "colab_type": "text"
      },
      "source": [
        "<a href=\"https://colab.research.google.com/github/pzaidins2/848-hw/blob/main/CMSC838B_Project.ipynb\" target=\"_parent\"><img src=\"https://colab.research.google.com/assets/colab-badge.svg\" alt=\"Open In Colab\"/></a>"
      ]
    },
    {
      "cell_type": "code",
      "execution_count": null,
      "metadata": {
        "id": "66atAV18OCJt"
      },
      "outputs": [],
      "source": [
        "# imports\n",
        "import numpy as np\n",
        "\n",
        "\n"
      ]
    },
    {
      "cell_type": "code",
      "source": [
        "# constant defintions\n",
        "# acceleration constraint of agent\n",
        "MAX_ACCELERATION = 1.0\n",
        "# speed constraint of agent\n",
        "MAX_SPEED = 1.0"
      ],
      "metadata": {
        "id": "d-GoHIXZUtFd"
      },
      "execution_count": null,
      "outputs": []
    },
    {
      "cell_type": "code",
      "source": [
        "# obstacle function\n",
        "\n",
        "\n",
        "# x: 2 x 1 numpy array agent position\n",
        "# X_obs: 2 x N numpy arrary of positions of obstacles\n",
        "# c_maximal: 1 x N numpy array limiting maximal acceleration by obstacle [0,]\n",
        "# c_shape: 1 x N numpy array describing shape\n",
        "\n",
        "def f_repulse(  x: np.array(float), X_obs: np.array(float), c_maximal: float, c_shape: float,) -> np.array(float):\n",
        "  # relative positions (point away from each obstacle)\n",
        "  d_rel = x - X_obs\n",
        "  # distances\n",
        "  d = np.linalg.norm(d_rel,axis=1)\n",
        "  # acceleration\n",
        "  a = c_maximal * d_rel\n",
        "\n",
        "  return c_maximal * ( x - x_obs )\n"
      ],
      "metadata": {
        "id": "cwx1kujQPSyR"
      },
      "execution_count": null,
      "outputs": []
    }
  ]
}